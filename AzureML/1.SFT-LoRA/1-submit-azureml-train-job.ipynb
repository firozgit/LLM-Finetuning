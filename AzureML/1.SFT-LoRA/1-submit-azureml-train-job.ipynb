{
 "cells": [
  {
   "cell_type": "code",
   "execution_count": null,
   "id": "daa63215-23ab-41cd-aa0c-ac1614852de0",
   "metadata": {},
   "outputs": [],
   "source": [
    "# Uncomment the following line to install the required packages\n",
    "# restart the kernel after running this cell\n",
    "#!pip install pyyaml logger azure-ai-ml pandas --upgrade --user --no-cache-dir"
   ]
  },
  {
   "cell_type": "code",
   "execution_count": 21,
   "id": "8d1e4447-0767-48af-b26e-c9c532031bba",
   "metadata": {},
   "outputs": [],
   "source": [
    "# Uncomment the following line to log in to Azure\n",
    "#!az login"
   ]
  },
  {
   "cell_type": "code",
   "execution_count": 29,
   "id": "bea8e6a0-3cee-4fb0-bfed-1671c371c7bd",
   "metadata": {},
   "outputs": [],
   "source": [
    "# Import Libraries\n",
    "import logging\n",
    "import yaml\n",
    "from azure.ai.ml import MLClient, Input, Output, command\n",
    "from azure.ai.ml.entities import Environment, Model\n",
    "from azure.identity import DefaultAzureCredential\n",
    "from azure.ai.ml.constants import AssetTypes"
   ]
  },
  {
   "cell_type": "code",
   "execution_count": 23,
   "id": "a4685850-92b5-4f65-9ad5-c9fde1b3532f",
   "metadata": {},
   "outputs": [],
   "source": [
    "# Set global logging level\n",
    "logging.getLogger().setLevel(logging.WARNING)\n",
    "\n",
    "# Specifically reduce Azure-related logging in this notebook\n",
    "logging.getLogger(\"azure\").setLevel(logging.ERROR)\n",
    "logging.getLogger(\"azure.identity\").setLevel(logging.ERROR)\n",
    "logging.getLogger(\"azure.core.pipeline.policies.http_logging_policy\").setLevel(logging.ERROR)"
   ]
  },
  {
   "cell_type": "code",
   "execution_count": 27,
   "id": "26b5e0e3",
   "metadata": {},
   "outputs": [],
   "source": [
    "# read the Azure ML workspace configuration from config.yml\n",
    "with open(\"config.yml\", \"r\") as f:\n",
    "    config = yaml.safe_load(f)\n",
    "\n",
    "# Azure ML workspace configuration\n",
    "subscription_id = config[\"subscription_id\"]\n",
    "resource_group = config[\"resource_group\"]\n",
    "workspace_name = config[\"workspace_name\"]\n",
    "\n",
    "# Training environment configuration\n",
    "training_env_name = config[\"training_env_name\"]\n",
    "training_env_version = config[\"training_env_version\"]\n",
    "training_env_description = config[\"training_env_description\"]\n",
    "\n",
    "training_env_requirements = config[\"training_env_requirements\"]\n",
    "training_env_base_image = config[\"training_env_base_image\"]\n",
    "training_env_conda_file = config[\"training_env_conda_file\"]\n",
    "\n",
    "# Training Compute configuration\n",
    "training_compute_cluster_name = config[\"training_compute_cluster_name\"]\n",
    "training_compute_cluster_size = config[\"training_compute_cluster_size\"]\n",
    "\n",
    "# Directory configuration\n",
    "data_dir = config[\"data_dir\"]\n",
    "train_dir = config[\"train_dir\"]\n",
    "output_dir = config[\"output_dir\"]\n",
    "model_dir = config[\"model_dir\"]\n",
    "\n",
    "# finetuned model configuration\n",
    "finetuned_model_name = config[\"finetuned_model_name\"]\n",
    "finetuned_model_version = config[\"finetuned_model_version\"]\n"
   ]
  },
  {
   "cell_type": "code",
   "execution_count": null,
   "id": "d9a5f398-e5c5-44e9-b6b8-bef612b2f9f1",
   "metadata": {},
   "outputs": [
    {
     "name": "stderr",
     "output_type": "stream",
     "text": [
      "Overriding of current TracerProvider is not allowed\n",
      "Overriding of current LoggerProvider is not allowed\n",
      "Overriding of current MeterProvider is not allowed\n",
      "Attempting to instrument while already instrumented\n",
      "Attempting to instrument while already instrumented\n",
      "Attempting to instrument while already instrumented\n"
     ]
    }
   ],
   "source": [
    "# Initialize ML Client\n",
    "ml_client = MLClient(DefaultAzureCredential(), subscription_id, resource_group, workspace_name)"
   ]
  },
  {
   "cell_type": "code",
   "execution_count": null,
   "id": "2149e801-1213-4f4d-ba71-2adb9a254292",
   "metadata": {},
   "outputs": [],
   "source": [
    "# Create the data asset - I am uploading the data directly as part of the training job"
   ]
  },
  {
   "cell_type": "code",
   "execution_count": null,
   "id": "bfda56d3-319c-45e3-83b2-319585fbca74",
   "metadata": {},
   "outputs": [],
   "source": [
    "# Create the compute -  I have done this via the Azure ML Studio"
   ]
  },
  {
   "cell_type": "code",
   "execution_count": null,
   "id": "85f7a2cd-e8a0-4475-ada7-1469706fd336",
   "metadata": {},
   "outputs": [
    {
     "name": "stdout",
     "output_type": "stream",
     "text": [
      "Creating and registering environment..\n",
      "Environment 'ft-env-phi-4-mini-instruct-lora:1' registered successfully\n"
     ]
    }
   ],
   "source": [
    "# Create the training environment - I am creating the environment reusing the Azure ML base image and then installing the packages using the conda yml file.\n",
    "# This takes around 20 minutes to build the environment - check the Azure ML Studio > Environments to see the progress of the environment creation.\n",
    "\n",
    "try:\n",
    "    # Check if the environment already exists\n",
    "    existing_env = ml_client.environments.get(name=training_env_name, version=training_env_version)\n",
    "    print(f\"Environment '{training_env_name}:{training_env_version}' already exists.\")\n",
    "except Exception as e:\n",
    "    print(f\"Environment '{training_env_name}:{training_env_version}' does not exist. Creating a new one.\")\n",
    "    # Define the custom environment\n",
    "    custom_env = Environment(\n",
    "        name=training_env_name,\n",
    "        version=training_env_version,\n",
    "        description=training_env_description,\n",
    "        image=training_env_base_image,\n",
    "        conda_file=training_env_conda_file\n",
    "    )\n",
    "\n",
    "    # Register the environment (this will build it)\n",
    "    print(\"Creating and registering environment..\")\n",
    "    registered_env = ml_client.environments.create_or_update(custom_env)\n",
    "    print(f\"Environment '{training_env_name}:{training_env_version}' registered successfully\")"
   ]
  },
  {
   "cell_type": "code",
   "execution_count": 26,
   "id": "1e661373",
   "metadata": {},
   "outputs": [
    {
     "name": "stderr",
     "output_type": "stream",
     "text": [
      "pathOnCompute is not a known attribute of class <class 'azure.ai.ml._restclient.v2023_04_01_preview.models._models_py3.UriFolderJobOutput'> and will be ignored\n"
     ]
    },
    {
     "name": "stdout",
     "output_type": "stream",
     "text": [
      "Submitted job: blue_frog_cnlg9dp1rf\n"
     ]
    }
   ],
   "source": [
    "# Create the training job\n",
    "job = command(\n",
    "    inputs={\n",
    "        \"dataset_path\": Input(\n",
    "                            type=\"uri_folder\",\n",
    "                            path=data_dir  # Local folder path\n",
    "                        ) # Input dataset path\n",
    "    },\n",
    "    outputs={\n",
    "        \"output\": Output(type=\"uri_folder\") # Directory to save the output including the checkpoints and model\n",
    "    },\n",
    "    code=train_dir,\n",
    "    command=\"python train.py --dataset_path ${{inputs.dataset_path}} --output_dir ${{outputs.output}}\",\n",
    "    environment=f\"{training_env_name}:{training_env_version}\",\n",
    "    compute=training_compute_cluster_name,\n",
    "    description=\"phi 4 mini instruct LoRA fine-tuning\",\n",
    "    display_name=\"ft-e3-tb8-eb8-ga4-lr2e-05-r64-a128-d0.1\", # update this to reflect your job training parameters\n",
    "    experiment_name=\"finetune-phi-4-mini-instruct\",\n",
    ")\n",
    "\n",
    "# Submit the training job\n",
    "returned_job = ml_client.jobs.create_or_update(job)\n",
    "print(f\"Submitted job: {returned_job.name}\")"
   ]
  },
  {
   "cell_type": "code",
   "execution_count": 38,
   "id": "2c302b54",
   "metadata": {},
   "outputs": [],
   "source": [
    "# Register the final model\n",
    "path = f\"azureml://datastores/workspaceblobstore/paths/azureml/{returned_job.name}/output/model/\" # datastore uri\n",
    "\n",
    "model_asset = Model(\n",
    "    path=path,\n",
    "    name=finetuned_model_name,\n",
    "    version=finetuned_model_version,\n",
    "    description=\"finetuned phi 4 mini instruct model\",\n",
    "    type=AssetTypes.CUSTOM_MODEL, \n",
    "    properties={\n",
    "        \"azureml.job_name\": f\"{returned_job.name}\"\n",
    "    },\n",
    ")\n",
    "\n",
    "\n",
    "registered_model = ml_client.models.create_or_update(model_asset)"
   ]
  },
  {
   "cell_type": "code",
   "execution_count": null,
   "id": "a9a369f8",
   "metadata": {},
   "outputs": [],
   "source": [
    "# Print the registered model ID. This can be used for deployment in next notebook\n",
    "print(\"Model ID:\", registered_model.id)"
   ]
  },
  {
   "cell_type": "code",
   "execution_count": null,
   "id": "dead71eb",
   "metadata": {},
   "outputs": [],
   "source": [
    "# Download the final model to local directory\n",
    "model = ml_client.models.get(name=finetuned_model_name, version=finetuned_model_version)\n",
    "ml_client.models.download(name=model.name, version=model.version, download_path=\"model\")"
   ]
  },
  {
   "cell_type": "code",
   "execution_count": 37,
   "id": "b38b6929",
   "metadata": {},
   "outputs": [],
   "source": [
    "# If the model is not downloaded, you can use the azcopy to download it. You will get the warnings in the above cell on how to do it. It might look like this:\n",
    "# !azcopy copy 'https://<storage>.blob.core.windows.net/<azureml_blobstore>/azureml/<job_name>/output/model/' 'model\\<finetuned_model_name>\\model'"
   ]
  }
 ],
 "metadata": {
  "kernelspec": {
   "display_name": "gitenv",
   "language": "python",
   "name": "python3"
  },
  "language_info": {
   "codemirror_mode": {
    "name": "ipython",
    "version": 3
   },
   "file_extension": ".py",
   "mimetype": "text/x-python",
   "name": "python",
   "nbconvert_exporter": "python",
   "pygments_lexer": "ipython3",
   "version": "3.12.11"
  }
 },
 "nbformat": 4,
 "nbformat_minor": 5
}
