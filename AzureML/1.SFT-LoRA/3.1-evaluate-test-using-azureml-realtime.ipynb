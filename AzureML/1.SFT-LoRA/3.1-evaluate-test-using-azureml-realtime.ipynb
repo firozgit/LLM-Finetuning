{
 "cells": [
  {
   "cell_type": "code",
   "execution_count": 2,
   "id": "802d4e82",
   "metadata": {},
   "outputs": [],
   "source": [
    "# Import Libraries\n",
    "import os\n",
    "import json\n",
    "import yaml\n",
    "import logging\n",
    "from tqdm import tqdm\n",
    "from azure.ai.ml import MLClient\n",
    "from azure.identity import DefaultAzureCredential"
   ]
  },
  {
   "cell_type": "code",
   "execution_count": 3,
   "id": "f2bad6e8",
   "metadata": {},
   "outputs": [],
   "source": [
    "# Set global logging level\n",
    "logging.getLogger().setLevel(logging.WARNING)\n",
    "\n",
    "# Specifically reduce Azure-related logging in this notebook\n",
    "logging.getLogger(\"azure\").setLevel(logging.ERROR)\n",
    "logging.getLogger(\"azure.identity\").setLevel(logging.ERROR)\n",
    "logging.getLogger(\"azure.core.pipeline.policies.http_logging_policy\").setLevel(logging.ERROR)"
   ]
  },
  {
   "cell_type": "code",
   "execution_count": null,
   "id": "143eb4d8",
   "metadata": {},
   "outputs": [],
   "source": [
    "# read the Azure ML workspace configuration from config.yml\n",
    "with open(\"config.yml\", \"r\") as f:\n",
    "    config = yaml.safe_load(f)\n",
    "\n",
    "# Azure ML workspace configuration\n",
    "subscription_id = config[\"subscription_id\"]\n",
    "resource_group = config[\"resource_group\"]\n",
    "workspace_name = config[\"workspace_name\"]\n",
    "\n",
    "# baseline endpoint configuration\n",
    "baseline_endpoint_name = config[\"baseline_endpoint_name\"]\n",
    "\n",
    "# finetuned model real-time endpoint configuration\n",
    "endpoint_name = config[\"endpoint_name\"]"
   ]
  },
  {
   "cell_type": "code",
   "execution_count": null,
   "id": "82df7bc6",
   "metadata": {},
   "outputs": [],
   "source": [
    "# Uncomment the following line to log in to Azure\n",
    "#!az login"
   ]
  },
  {
   "cell_type": "code",
   "execution_count": 6,
   "id": "f593c13c",
   "metadata": {},
   "outputs": [],
   "source": [
    "# get the MLClient instance\n",
    "ml_client = MLClient(DefaultAzureCredential(), subscription_id, resource_group, workspace_name)"
   ]
  },
  {
   "cell_type": "code",
   "execution_count": 7,
   "id": "2a12c134",
   "metadata": {},
   "outputs": [],
   "source": [
    "# get the test data\n",
    "with open(\"./data/test.jsonl\", \"r\", encoding='utf-8') as f:\n",
    "    test_data = [json.loads(line) for line in f]"
   ]
  },
  {
   "cell_type": "markdown",
   "id": "d09e051b",
   "metadata": {},
   "source": [
    "##### Baseline Model Evaluation"
   ]
  },
  {
   "cell_type": "code",
   "execution_count": 28,
   "id": "65f20317",
   "metadata": {},
   "outputs": [
    {
     "name": "stderr",
     "output_type": "stream",
     "text": [
      "<>:64: SyntaxWarning: invalid escape sequence '\\B'\n",
      "<>:64: SyntaxWarning: invalid escape sequence '\\B'\n",
      "C:\\Users\\firozshaik\\AppData\\Local\\Temp\\ipykernel_32540\\609893104.py:64: SyntaxWarning: invalid escape sequence '\\B'\n",
      "  print(f\"\\Baseline Accuracy on MedQA test set: {accuracy:.2%}\")\n",
      "Evaluating test dataset: 100%|██████████████████████████████████████████████████████████████████████████████████████████████████████████████████████████████████████████████████████████████████████████████████████████████████████████████████████████████████████████████████████████| 1273/1273 [20:07<00:00,  1.05it/s]"
     ]
    },
    {
     "name": "stdout",
     "output_type": "stream",
     "text": [
      "\\Baseline Accuracy on MedQA test set: 44.85%\n"
     ]
    },
    {
     "name": "stderr",
     "output_type": "stream",
     "text": [
      "\n"
     ]
    }
   ],
   "source": [
    "# Baseline Model Evaluation\n",
    "correct = 0\n",
    "total = len(test_data)\n",
    "\n",
    "def formatting_func(example):\n",
    "    question = example[\"question\"]\n",
    "    options = example[\"options\"]\n",
    "    answer_idx = example[\"answer_idx\"]\n",
    "\n",
    "    # Format options as A. Option text...\n",
    "    formatted_options = \"\\n\".join([f\"{key}. {val}\" for key, val in sorted(options.items())])\n",
    "    \n",
    "    user_content = f\"Question:\\n{question}\\n\\nOptions:\\n{formatted_options}\"\n",
    "\n",
    "    system_prompt = f\"You are a medical expert. Read the following USMLE question and choose the best answer. Give me the answer as A/B/C/D/E.\"\n",
    "\n",
    "    return system_prompt, user_content, answer_idx\n",
    "\n",
    "\n",
    "for item in tqdm(test_data, desc=\"Evaluating test dataset\"):\n",
    "\n",
    "    system_prompt, user_content, gold_answer = formatting_func(item)\n",
    "    try:        \n",
    "        sample = {\n",
    "            \"input_data\": {\n",
    "                \"input_string\": \n",
    "                [\n",
    "                    {\n",
    "                        \"role\": \"system\",\n",
    "                        \"content\": system_prompt\n",
    "                    },\n",
    "                    {\n",
    "                        \"role\": \"user\",\n",
    "                        \"content\": user_content\n",
    "                    }\n",
    "                ],\n",
    "                \"parameters\": {\n",
    "                    \"temperature\": 0.0,\n",
    "                    \"max_new_tokens\": 10,\n",
    "                    \"do_sample\": False\n",
    "                }\n",
    "            }\n",
    "        }\n",
    "        with open(\"request.json\", \"w\") as f:\n",
    "            json.dump(sample, f, indent=4)\n",
    "\n",
    "        response = ml_client.online_endpoints.invoke(\n",
    "            endpoint_name=baseline_endpoint_name,\n",
    "            request_file=\"request.json\"\n",
    "        )\n",
    "\n",
    "        response_json = json.loads(response)\n",
    "        model_answer = response_json[\"output\"].strip()\n",
    "\n",
    "        if model_answer.startswith(gold_answer):\n",
    "            correct += 1\n",
    "\n",
    "    except Exception as e:\n",
    "        print(f\"Error: {e}\")\n",
    "        total -= 1  # Skip from total if failed\n",
    "\n",
    "# Final accuracy\n",
    "accuracy = correct / total if total > 0 else 0\n",
    "print(f\"\\Baseline Accuracy on MedQA test set: {accuracy:.2%}\")"
   ]
  },
  {
   "cell_type": "markdown",
   "id": "bb9e02bf",
   "metadata": {},
   "source": [
    "##### Finetuned Model Evaluation"
   ]
  },
  {
   "cell_type": "code",
   "execution_count": 12,
   "id": "c1fe2691",
   "metadata": {},
   "outputs": [
    {
     "name": "stderr",
     "output_type": "stream",
     "text": [
      "Evaluating test dataset: 100%|██████████| 1273/1273 [16:45<00:00,  1.27it/s]"
     ]
    },
    {
     "name": "stdout",
     "output_type": "stream",
     "text": [
      "\n",
      "Finetuned Accuracy on MedQA test set: 46.27%\n"
     ]
    },
    {
     "name": "stderr",
     "output_type": "stream",
     "text": [
      "\n"
     ]
    }
   ],
   "source": [
    "# Finetuned Model Evaluation\n",
    "correct = 0\n",
    "total = len(test_data)\n",
    "\n",
    "def formatting_func(example):\n",
    "    question = example[\"question\"]\n",
    "    options = example[\"options\"]\n",
    "    answer_idx = example[\"answer_idx\"]\n",
    "\n",
    "    # Format options as A. Option text...\n",
    "    formatted_options = \"\\n\".join([f\"{key}. {val}\" for key, val in sorted(options.items())])\n",
    "    \n",
    "    user_content = f\"Question:\\n{question}\\n\\nOptions:\\n{formatted_options}\"\n",
    "\n",
    "    system_prompt = f\"You are a medical expert. Read the following USMLE question and choose the best answer. Give me the answer as A/B/C/D/E.\"\n",
    "\n",
    "    return system_prompt, user_content, answer_idx\n",
    "\n",
    "\n",
    "for item in tqdm(test_data, desc=\"Evaluating test dataset\"):\n",
    "\n",
    "    system_prompt, user_content, gold_answer = formatting_func(item)\n",
    "    try:        \n",
    "        sample = {\n",
    "            \"messages\": [\n",
    "                {\n",
    "                    \"role\": \"system\",\n",
    "                    \"content\": system_prompt\n",
    "                },\n",
    "                {\n",
    "                    \"role\": \"user\",\n",
    "                    \"content\": user_content\n",
    "                }\n",
    "            ],\n",
    "            \"temperature\": 0.0,\n",
    "            \"max_new_tokens\": 10,\n",
    "            \"do_sample\": False,\n",
    "        }\n",
    "\n",
    "        with open(\"request.json\", \"w\") as f:\n",
    "            json.dump(sample, f, indent=4)\n",
    "\n",
    "        response = ml_client.online_endpoints.invoke(\n",
    "            endpoint_name=endpoint_name,\n",
    "            request_file=\"request.json\"\n",
    "        )\n",
    "\n",
    "        model_answer = response.strip().strip('\"')\n",
    "\n",
    "        # print(f\"response: {response}\")\n",
    "        # print(f\"Model Answer: {model_answer}\")\n",
    "        # print(f\"Gold Answer: {gold_answer}\")\n",
    "\n",
    "        if model_answer.startswith(gold_answer):\n",
    "            correct += 1\n",
    "\n",
    "    except Exception as e:\n",
    "        print(f\"Error: {e}\")\n",
    "        total -= 1  # Skip from total if failed\n",
    "\n",
    "# Final accuracy\n",
    "accuracy = correct / total if total > 0 else 0\n",
    "print(f\"\\nFinetuned Accuracy on MedQA test set: {accuracy:.2%}\")"
   ]
  },
  {
   "cell_type": "code",
   "execution_count": null,
   "id": "ec7a4003",
   "metadata": {},
   "outputs": [],
   "source": []
  }
 ],
 "metadata": {
  "kernelspec": {
   "display_name": "gitenv",
   "language": "python",
   "name": "python3"
  },
  "language_info": {
   "codemirror_mode": {
    "name": "ipython",
    "version": 3
   },
   "file_extension": ".py",
   "mimetype": "text/x-python",
   "name": "python",
   "nbconvert_exporter": "python",
   "pygments_lexer": "ipython3",
   "version": "3.12.11"
  }
 },
 "nbformat": 4,
 "nbformat_minor": 5
}
