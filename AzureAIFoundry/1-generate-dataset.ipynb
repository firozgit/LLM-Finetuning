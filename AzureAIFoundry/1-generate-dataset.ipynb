{
 "cells": [
  {
   "cell_type": "code",
   "execution_count": 6,
   "id": "9553d3a0-c025-4870-a24e-7236fb36117e",
   "metadata": {},
   "outputs": [],
   "source": [
    "import json"
   ]
  },
  {
   "cell_type": "markdown",
   "id": "ab9931a3-34e1-4f69-8613-2cc91d274913",
   "metadata": {},
   "source": [
    "**OpenAI Chat Completions format** (https://learn.microsoft.com/en-us/azure/ai-services/openai/how-to/fine-tuning?tabs=azure-openai&pivots=programming-language-studio#prepare-your-training-and-validation-data)"
   ]
  },
  {
   "cell_type": "code",
   "execution_count": 7,
   "id": "6e320fc2-10d7-44f3-b4f5-63d9b5911c90",
   "metadata": {},
   "outputs": [],
   "source": [
    "def convert_to_openai_chat_completions(input_file, output_file):\n",
    "    with open(input_file, 'r', encoding='utf-8') as fin, open(output_file, 'w', encoding='utf-8') as fout:\n",
    "        for line in fin:\n",
    "            entry = json.loads(line)\n",
    "    \n",
    "            options_text = \"\\n\".join([f\"{k}. {v}\" for k, v in sorted(entry[\"options\"].items())])\n",
    "            user_content = f\"\"\"\n",
    "Question:\n",
    "{entry['question']}\n",
    "\n",
    "Options:\n",
    "{options_text}\"\"\"\n",
    "    \n",
    "            # Build the new message structure\n",
    "            new_entry = {\n",
    "                \"messages\": [\n",
    "                    {\n",
    "                        \"role\": \"system\",\n",
    "                        \"content\": \"You are a medical expert. Read the following USMLE question and choose the best answer.\"\n",
    "                    },\n",
    "                    {\n",
    "                        \"role\": \"user\",\n",
    "                        \"content\": user_content\n",
    "                    },\n",
    "                    {\n",
    "                        \"role\": \"assistant\",\n",
    "                        \"content\": entry['answer_idx']\n",
    "                    }\n",
    "                ]\n",
    "            }\n",
    "    \n",
    "            fout.write(json.dumps(new_entry) + '\\n')"
   ]
  },
  {
   "cell_type": "code",
   "execution_count": 8,
   "id": "5e6166d6-df22-4437-8870-37a5b8b4424b",
   "metadata": {},
   "outputs": [],
   "source": [
    "convert_to_openai_chat_completions('train.jsonl', 'medqa_usmle_train.jsonl')"
   ]
  },
  {
   "cell_type": "code",
   "execution_count": 9,
   "id": "f8ec25a9-9b44-480d-901a-d9d63970ee12",
   "metadata": {},
   "outputs": [],
   "source": [
    "convert_to_openai_chat_completions('dev.jsonl', 'medqa_usmle_dev.jsonl')"
   ]
  },
  {
   "cell_type": "code",
   "execution_count": 10,
   "id": "edd3fcf3-f708-4869-a42f-f4666a24d345",
   "metadata": {},
   "outputs": [],
   "source": [
    "convert_to_openai_chat_completions('test.jsonl', 'medqa_usmle_test.jsonl')"
   ]
  }
 ],
 "metadata": {
  "kernelspec": {
   "display_name": "Python 3 (ipykernel)",
   "language": "python",
   "name": "python3"
  },
  "language_info": {
   "codemirror_mode": {
    "name": "ipython",
    "version": 3
   },
   "file_extension": ".py",
   "mimetype": "text/x-python",
   "name": "python",
   "nbconvert_exporter": "python",
   "pygments_lexer": "ipython3",
   "version": "3.12.10"
  }
 },
 "nbformat": 4,
 "nbformat_minor": 5
}
